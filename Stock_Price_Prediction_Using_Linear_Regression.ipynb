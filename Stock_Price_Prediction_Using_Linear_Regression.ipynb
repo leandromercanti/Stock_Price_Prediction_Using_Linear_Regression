{
  "nbformat": 4,
  "nbformat_minor": 0,
  "metadata": {
    "colab": {
      "provenance": [],
      "authorship_tag": "ABX9TyNQZ18uuYFeA4Ig/5sy4BbF",
      "include_colab_link": true
    },
    "kernelspec": {
      "name": "python3",
      "display_name": "Python 3"
    },
    "language_info": {
      "name": "python"
    }
  },
  "cells": [
    {
      "cell_type": "markdown",
      "metadata": {
        "id": "view-in-github",
        "colab_type": "text"
      },
      "source": [
        "<a href=\"https://colab.research.google.com/github/leandromercanti/Stock_Price_Prediction_Using_Linear_Regression/blob/main/Stock_Price_Prediction_Using_Linear_Regression.ipynb\" target=\"_parent\"><img src=\"https://colab.research.google.com/assets/colab-badge.svg\" alt=\"Open In Colab\"/></a>"
      ]
    },
    {
      "cell_type": "code",
      "execution_count": null,
      "metadata": {
        "id": "opf7N9SITMka"
      },
      "outputs": [],
      "source": []
    },
    {
      "cell_type": "markdown",
      "source": [
        "# **Project: Stock Price Prediction Using Linear Regression**\n",
        "\n",
        "<br>\n",
        "\n",
        "**Objective:** Build a simple model to predict stock prices using historical data and linear regression techniques.\n",
        "\n",
        "<br>\n",
        "\n",
        "**Skills:** Data cleaning, feature engineering, basic statistics, linear regression.\n",
        "\n",
        "<br>\n",
        "\n",
        "**Important:** This project was created for educational purposes only. Consult your financial advisor before making any investment decisions.\n"
      ],
      "metadata": {
        "id": "Ro1hjGOwTOba"
      }
    },
    {
      "cell_type": "markdown",
      "source": [
        "### Step 1: Set Up the Environment\n",
        "\n",
        "Programming Language: Python\n",
        "\n",
        "Tools/IDE: Google Colab, Jupyter Notebook, VS Code, or any Python IDE.\n",
        "\n",
        "Libraries to Install:\n",
        "pandas for data manipulation, numpy for numerical computations, matplotlib and seaborn for data visualization, scikit-learn for machine learning algorithms, yfinance to fetch historical stock price data."
      ],
      "metadata": {
        "id": "66qrggZNTwjS"
      }
    },
    {
      "cell_type": "code",
      "source": [
        "# Install the required libraries using pip\n",
        "# You only need to comment out the code below if you are doing this project in an environment that requires that installation.\n",
        "\n",
        "# pip install pandas numpy matplotlib seaborn scikit-learn yfinance\n"
      ],
      "metadata": {
        "id": "3nDDYnJyT6LQ"
      },
      "execution_count": null,
      "outputs": []
    },
    {
      "cell_type": "markdown",
      "source": [
        "### Step 2: Fetch Historical Stock Price Data\n",
        "\n",
        "Objective: Gather the historical stock price data for the company of interest.\n",
        "\n",
        "Using yfinance:\n",
        "Import the necessary library and fetch data."
      ],
      "metadata": {
        "id": "oXVGJNNWUO6P"
      }
    },
    {
      "cell_type": "code",
      "source": [
        "import yfinance as yf\n",
        "\n",
        "# Define the stock ticker and the date range\n",
        "stock_ticker = 'AAPL'  # Example: Apple Inc.\n",
        "start_date = '2019-01-01'\n",
        "end_date = '2024-08-01'\n",
        "\n",
        "# Fetch the data\n",
        "stock_data = yf.download(stock_ticker, start=start_date, end=end_date)"
      ],
      "metadata": {
        "id": "9eN57K3lUmT4"
      },
      "execution_count": null,
      "outputs": []
    },
    {
      "cell_type": "code",
      "source": [
        "# Display the first and last few rows of the dataset\n",
        "print(stock_data.head())\n",
        "print(stock_data.tail())"
      ],
      "metadata": {
        "id": "4nBeDS14sQMd"
      },
      "execution_count": null,
      "outputs": []
    },
    {
      "cell_type": "markdown",
      "source": [
        "### Step 3: Data Preprocessing\n",
        "\n",
        "Objective: Clean and prepare the data for modeling."
      ],
      "metadata": {
        "id": "LbmFapRvUp0n"
      }
    },
    {
      "cell_type": "code",
      "source": [
        "# Handling Missing Values:\n",
        "stock_data = stock_data.dropna()"
      ],
      "metadata": {
        "id": "5OaPFraAVRLJ"
      },
      "execution_count": 19,
      "outputs": []
    },
    {
      "cell_type": "code",
      "source": [
        "# Feature Engineering: You can create new features such as moving averages, returns, etc.\n",
        "stock_data['Moving_Avg_30'] = stock_data['Close'].rolling(window=30).mean()\n",
        "stock_data['Return'] = stock_data['Close'].pct_change()\n",
        "\n",
        "print(stock_data.tail())"
      ],
      "metadata": {
        "id": "PcEPMNTxVWeA"
      },
      "execution_count": null,
      "outputs": []
    },
    {
      "cell_type": "code",
      "source": [
        "# Selecting Relevant Features: Focus on features like Open, High, Low, Close, Volume, and the engineered features.\n",
        "features = ['Open', 'High', 'Low', 'Volume', 'Moving_Avg_30']\n",
        "target = 'Close'"
      ],
      "metadata": {
        "id": "PSFcjEwLVbz9"
      },
      "execution_count": 21,
      "outputs": []
    },
    {
      "cell_type": "code",
      "source": [
        "# Splitting Data into Train and Test Sets:\n",
        "from sklearn.model_selection import train_test_split\n",
        "\n",
        "X = stock_data[features].dropna()\n",
        "y = stock_data[target][X.index]  # Align target with feature data\n",
        "\n",
        "X_train, X_test, y_train, y_test = train_test_split(X, y, test_size=0.2, random_state=42)\n",
        "\n",
        "print(\"The dataset has been successfully splitted between training(80%) and testing data(20%)\")"
      ],
      "metadata": {
        "id": "diEcIkeuVi5F"
      },
      "execution_count": null,
      "outputs": []
    },
    {
      "cell_type": "markdown",
      "source": [
        "### Step 4: Building the Linear Regression Model\n",
        "\n",
        "Objective: Create and train a linear regression model to predict stock prices."
      ],
      "metadata": {
        "id": "GgpD3XcvVsR_"
      }
    },
    {
      "cell_type": "code",
      "source": [
        "# Import and Train the Model:\n",
        "from sklearn.linear_model import LinearRegression\n",
        "\n",
        "# Initialize the model\n",
        "model = LinearRegression()\n",
        "\n",
        "# Train the model\n",
        "model.fit(X_train, y_train)"
      ],
      "metadata": {
        "id": "0QjwXSvKVxQW"
      },
      "execution_count": null,
      "outputs": []
    },
    {
      "cell_type": "code",
      "source": [
        "# Model Evaluation: Evaluate the model using metrics like R-squared and Mean Squared Error (MSE).\n",
        "from sklearn.metrics import mean_squared_error, r2_score\n",
        "\n",
        "# Make predictions on the test set\n",
        "y_pred = model.predict(X_test)\n",
        "\n",
        "# Calculate R-squared and MSE\n",
        "r2 = r2_score(y_test, y_pred)\n",
        "mse = mean_squared_error(y_test, y_pred)\n",
        "\n",
        "print(f'R-squared: {r2}')\n",
        "print(f'Mean Squared Error: {mse}')"
      ],
      "metadata": {
        "id": "_DupjYKAV57-"
      },
      "execution_count": null,
      "outputs": []
    },
    {
      "cell_type": "markdown",
      "source": [
        "### Step 5: Model Interpretation and Visualization\n",
        "\n",
        "Objective: Understand and visualize the model's predictions."
      ],
      "metadata": {
        "id": "Q4ouq9UuWAXa"
      }
    },
    {
      "cell_type": "code",
      "source": [
        "import pandas as pd\n",
        "\n",
        "# Assuming y_test and y_pred are pandas Series with date indexes\n",
        "comparison_df = pd.DataFrame({\n",
        "    'Actual Price': y_test,\n",
        "    'Predicted Price': y_pred\n",
        "})\n",
        "\n",
        "# Sort the dataframe by date in descending order and display the 10 most recent entries\n",
        "recent_comparison_df = comparison_df.sort_index(ascending=False).head(10)\n",
        "\n",
        "# Display the recent comparison\n",
        "recent_comparison_df_rounded = recent_comparison_df.round(2)\n",
        "print(\"\\nComparison:\")\n",
        "print(recent_comparison_df_rounded)"
      ],
      "metadata": {
        "id": "dwINa6Agffi-"
      },
      "execution_count": null,
      "outputs": []
    },
    {
      "cell_type": "code",
      "source": [
        "# Plotting Actual vs Predicted Prices:\n",
        "import matplotlib.pyplot as plt\n",
        "\n",
        "plt.figure(figsize=(10, 6))\n",
        "plt.plot(y_test.index, y_test, label='Actual Price', color='b')\n",
        "plt.plot(y_test.index, y_pred, label='Predicted Price', color='r')\n",
        "plt.xlabel('Date')\n",
        "plt.ylabel('Stock Price')\n",
        "plt.title(f'{stock_ticker} Stock Price Prediction')\n",
        "plt.legend()\n",
        "plt.show()\n"
      ],
      "metadata": {
        "id": "an3xvuBxWEw6"
      },
      "execution_count": null,
      "outputs": []
    },
    {
      "cell_type": "code",
      "source": [
        "# Residual Analysis: Plot the residuals to check for any patterns.\n",
        "residuals = y_test - y_pred\n",
        "plt.figure(figsize=(10, 6))\n",
        "plt.scatter(y_test.index, residuals)\n",
        "plt.axhline(0, color='r', linestyle='--')\n",
        "plt.xlabel('Date')\n",
        "plt.ylabel('Residuals')\n",
        "plt.title('Residuals Analysis')\n",
        "plt.show()"
      ],
      "metadata": {
        "id": "hiGzLhUFWJdC"
      },
      "execution_count": null,
      "outputs": []
    },
    {
      "cell_type": "markdown",
      "source": [
        "### Step 6: Conclusion and Further Steps\n",
        "\n",
        "Model Performance Analysis\n",
        "Based on the metrics you provided, the model shows exceptionally high performance:\n",
        "\n",
        "<br>\n",
        "\n",
        "**R-squared:**\n",
        "\n",
        "Interpretation: R-squared, also known as the coefficient of determination, measures how well the independent variables explain the variance in the dependent variable. An R-squared value of 0.9999 indicates that the model explains approximately 99.99% of the variance in the stock prices. This suggests that the model fits the data very well and captures almost all the variability in the stock prices.\n",
        "\n",
        "<br>\n",
        "\n",
        "**Mean Squared Error (MSE):\n",
        "\n",
        "Interpretation: MSE measures the average squared difference between the predicted and actual values. A lower MSE indicates a better fit of the model to the data. In this case, an MSE of 0.3566 is relatively low, indicating that the model’s predictions are very close to the actual stock prices.\n",
        "Strengths of the Model\n",
        "\n",
        "<br>\n",
        "\n",
        "**High Accuracy:** The high R-squared value suggests that the linear regression model is highly accurate in predicting stock prices based on the selected features.\n",
        "\n",
        "<br>\n",
        "\n",
        "**Low Error:** The low MSE further supports the accuracy of the model, showing that the predictions are very close to the actual stock prices.\n",
        "Potential Limitations\n",
        "\n",
        "<br>\n",
        "\n",
        "**Overfitting Risk:** The exceptionally high R-squared value may suggest that the model is overfitting the training data, especially if the test data is not sufficiently diverse or if the model is too closely tailored to the specific dataset used. Overfitting occurs when a model captures noise or random fluctuations in the data rather than the underlying trend.\n",
        "\n",
        "<br>\n",
        "\n",
        "**Limited Feature Set:** While the model performs well with the chosen features, it may not generalize as effectively to different stocks or market conditions. Stock prices can be influenced by many factors not captured in the current model, such as economic indicators, global events, or company-specific news."
      ],
      "metadata": {
        "id": "tSRSVffHWS4D"
      }
    }
  ]
}